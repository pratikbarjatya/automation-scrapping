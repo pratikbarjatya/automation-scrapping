{
 "cells": [
  {
   "cell_type": "code",
   "execution_count": null,
   "source": [
    "import time\r\n",
    "import pyautogui"
   ],
   "outputs": [],
   "metadata": {}
  },
  {
   "cell_type": "code",
   "execution_count": null,
   "source": [
    "# Zoom's webinar ID; Example: https://us02web.zoom.us/j/82128916384\r\n",
    "webinar_id = '82128916384'\r\n",
    "\r\n",
    "# pyautogui.mouseInfo(); To check screen coordinates\r\n",
    "pyautogui.click(x=70, y=750, duration=0.25)\r\n",
    "\r\n",
    "time.sleep(2)\r\n",
    "pyautogui.write(message='Zoom')\r\n",
    "\r\n",
    "time.sleep(2)\r\n",
    "pyautogui.press('Enter')\r\n",
    "\r\n",
    "time.sleep(2)\r\n",
    "pyautogui.getWindowsWithTitle(title='Zoom')[0].maximize()\r\n",
    "\r\n",
    "time.sleep(2)\r\n",
    "pyautogui.click(x=535, y=300, duration=0.25)\r\n",
    "\r\n",
    "time.sleep(2)\r\n",
    "pyautogui.click(x=570, y=330, duration=0.25)\r\n",
    "\r\n",
    "time.sleep(4)\r\n",
    "pyautogui.write(message=webinar_id)\r\n",
    "\r\n",
    "time.sleep(2)\r\n",
    "pyautogui.press('Enter')"
   ],
   "outputs": [],
   "metadata": {}
  }
 ],
 "metadata": {
  "kernelspec": {
   "display_name": "Python 3 (ipykernel)",
   "language": "python",
   "name": "python3"
  },
  "language_info": {
   "codemirror_mode": {
    "name": "ipython",
    "version": 3
   },
   "file_extension": ".py",
   "mimetype": "text/x-python",
   "name": "python",
   "nbconvert_exporter": "python",
   "pygments_lexer": "ipython3",
   "version": "3.9.7"
  }
 },
 "nbformat": 4,
 "nbformat_minor": 5
}