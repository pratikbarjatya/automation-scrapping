{
 "cells": [
  {
   "cell_type": "markdown",
   "source": [
    "---\n",
    "\n",
    "# **Importing of Libraries**\n",
    "\n",
    "- In this section, we have imported all the libraries that we will used to access and manipulate google sheets.\n",
    "\n",
    "---"
   ],
   "metadata": {}
  },
  {
   "cell_type": "code",
   "execution_count": 3,
   "source": [
    "# pip install EZSheets\r\n",
    "import ezsheets                                                     # A pythonic interface to the Google Sheets API"
   ],
   "outputs": [],
   "metadata": {}
  },
  {
   "cell_type": "markdown",
   "source": [
    "### **Spreadsheet Creation**"
   ],
   "metadata": {}
  },
  {
   "cell_type": "code",
   "execution_count": null,
   "source": [
    "# To create a new spreadsheet\r\n",
    "ss = ezsheets.createSpreadsheet('Google Sheets Automation')\r\n",
    "print('Title of the Spreadsheet:', ss.title)\r\n",
    "print('Spreadsheet ID:', ss.spreadsheetId)\r\n",
    "print('Spreadsheet URL:',  ss.url)"
   ],
   "outputs": [],
   "metadata": {}
  },
  {
   "cell_type": "markdown",
   "source": [
    "### **Spreadsheet Uploading**"
   ],
   "metadata": {}
  },
  {
   "cell_type": "code",
   "execution_count": null,
   "source": [
    "# To upload an existing Excel, OpenOffice, CSV, or TSV spreadsheet to Google Sheets\r\n",
    "ss = ezsheets.upload('file.csv')\r\n",
    "print('Uploaded Spreadsheet:', ss.title)\r\n",
    "print('Spreadsheet ID:', ss.spreadsheetId)\r\n",
    "print('Spreadsheet URL:',  ss.url)"
   ],
   "outputs": [],
   "metadata": {}
  },
  {
   "cell_type": "markdown",
   "source": [
    "### **Spreadsheet Listing**"
   ],
   "metadata": {}
  },
  {
   "cell_type": "code",
   "execution_count": null,
   "source": [
    "# To get all the spreadsheets\r\n",
    "sheets = ezsheets.listSpreadsheets()\r\n",
    "print(sheets)\r\n",
    "\r\n",
    "# Get the spreadsheet ID\r\n",
    "ss = ezsheets.Spreadsheet(spreadsheetId='1S6_5ZzJCh4kqlqToAtZNojxj0lK7g_qfJ0ErBjojcrs')\r\n",
    "print('Spreadsheet ID:', ss.spreadsheetId)"
   ],
   "outputs": [],
   "metadata": {}
  },
  {
   "cell_type": "markdown",
   "source": [
    "### **Spreadsheet Downloading**"
   ],
   "metadata": {}
  },
  {
   "cell_type": "code",
   "execution_count": null,
   "source": [
    "# Download spreadsheet in different formats\r\n",
    "ss = ezsheets.Spreadsheet('1S6_5ZzJCh4kqlqToAtZNojxj0lK7g_qfJ0ErBjojcrs')\r\n",
    "\r\n",
    "# Downloads the spreadsheet as an Excel file.\r\n",
    "ss.downloadAsExcel(filename=\"File.xlsx\") \r\n",
    "\r\n",
    "# Downloads the spreadsheet as an OpenOffice file.\r\n",
    "ss.downloadAsODS(filename=\"File.ods\") \r\n",
    "\r\n",
    "# Only downloads the first sheet as a CSV file.\r\n",
    "ss.downloadAsCSV(filename=\"File.csv\") \r\n",
    "\r\n",
    "# Only downloads the first sheet as a TSV file.\r\n",
    "ss.downloadAsTSV(filename=\"File.tsv\") \r\n",
    "\r\n",
    "# Downloads the spreadsheet as a PDF.\r\n",
    "ss.downloadAsPDF(filename=\"File.pdf\") \r\n",
    "\r\n",
    "# Downloads the spreadsheet as a ZIP of HTML files.\r\n",
    "ss.downloadAsHTML(filename=\"File.html\") "
   ],
   "outputs": [],
   "metadata": {}
  },
  {
   "cell_type": "markdown",
   "source": [
    "### **Spreadsheet Deletion**"
   ],
   "metadata": {}
  },
  {
   "cell_type": "code",
   "execution_count": null,
   "source": [
    "# To delete the spreadsheet\r\n",
    "ss = ezsheets.Spreadsheet(spreadsheetId='1S6_5ZzJCh4kqlqToAtZNojxj0lK7g_qfJ0ErBjojcrs')\r\n",
    "ss.delete(permanent=True)"
   ],
   "outputs": [],
   "metadata": {}
  },
  {
   "cell_type": "markdown",
   "source": [
    "### **Spreadsheet Reading/Writing**"
   ],
   "metadata": {}
  },
  {
   "cell_type": "code",
   "execution_count": null,
   "source": [
    "# To read spreadsheets data\r\n",
    "ss = ezsheets.Spreadsheet(spreadsheetId='1S6_5ZzJCh4kqlqToAtZNojxj0lK7g_qfJ0ErBjojcrs')\r\n",
    "\r\n",
    "# Get the first sheet\r\n",
    "sheet1 = ss[0]\r\n",
    "\r\n",
    "# Read first N Row\r\n",
    "for i in range(1, 4):\r\n",
    "    print(sheet1.getRow(i))\r\n",
    "\r\n",
    "# Update sheet rows with the specified values    \r\n",
    "sheet1.updateRow(row=3, values=['Pumpkin', '11.50', '20', '230'])\r\n",
    "\r\n",
    "print('---------------------------------------------------------------------------------------------------------')\r\n",
    "\r\n",
    "# Read first N Row\r\n",
    "for i in range(1, 4):\r\n",
    "    print(sheet1.getRow(i))"
   ],
   "outputs": [],
   "metadata": {}
  }
 ],
 "metadata": {
  "kernelspec": {
   "display_name": "Python 3 (ipykernel)",
   "language": "python",
   "name": "python3"
  },
  "language_info": {
   "codemirror_mode": {
    "name": "ipython",
    "version": 3
   },
   "file_extension": ".py",
   "mimetype": "text/x-python",
   "name": "python",
   "nbconvert_exporter": "python",
   "pygments_lexer": "ipython3",
   "version": "3.9.6"
  }
 },
 "nbformat": 4,
 "nbformat_minor": 5
}