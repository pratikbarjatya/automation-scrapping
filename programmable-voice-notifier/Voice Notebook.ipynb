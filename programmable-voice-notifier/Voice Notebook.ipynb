{
 "cells": [
  {
   "cell_type": "markdown",
   "id": "0225f66b-ed3f-44c3-a22f-00d2ac417562",
   "metadata": {},
   "source": [
    "---\n",
    "\n",
    "# **Importing of Libraries**\n",
    "\n",
    "- In this section, we will import all the essential libraries that will be used to make an API call.\n",
    "\n",
    "---"
   ]
  },
  {
   "cell_type": "code",
   "execution_count": 1,
   "id": "12aeebc6-42eb-4d2e-a3ad-638ae327641e",
   "metadata": {},
   "outputs": [],
   "source": [
    "import os\n",
    "from twilio.rest import Client\n",
    "from twilio.twiml.voice_response import VoiceResponse, Say"
   ]
  },
  {
   "cell_type": "markdown",
   "id": "6cf94d3e-5027-4449-b0ec-fbcdaed5037e",
   "metadata": {},
   "source": [
    "---\n",
    "\n",
    "# **Sending of Progrmmable Voice Call**\n",
    "\n",
    "- In this section, we will set up account_sid, auth_token, and create a message that needs to be sent to the target user.\n",
    "\n",
    "- Moreover, you need to pass on the twilio issued trial phone number and the target user's phone number.\n",
    "\n",
    "---"
   ]
  },
  {
   "cell_type": "code",
   "execution_count": 2,
   "id": "6ca57f5f-1392-4e23-af97-6a246b6297f5",
   "metadata": {},
   "outputs": [
    {
     "name": "stdout",
     "output_type": "stream",
     "text": [
      "CAbf92a72241bdef1645290944d166e073\n"
     ]
    }
   ],
   "source": [
    "account_sid = \"<Your Account SID>\"\n",
    "auth_token = \"<Your Authorization Token>\"\n",
    "\n",
    "client = Client(account_sid, auth_token)\n",
    "\n",
    "# Create a customized message\n",
    "response = VoiceResponse()\n",
    "response.say('I wish you enjoy your evening with joy and laughter, peace at your heart because my brother these are the things that you truly deserve.')\n",
    "\n",
    "# Replace your target number; For example : from_ +17028007358, to +17045007786\n",
    "call = client.calls.create(twiml=response, to=['<Target Phone Number>'], from_='<Twilio Issued Phone Number>')\n",
    "\n",
    "print(call.sid)"
   ]
  }
 ],
 "metadata": {
  "kernelspec": {
   "display_name": "Python 3 (ipykernel)",
   "language": "python",
   "name": "python3"
  },
  "language_info": {
   "codemirror_mode": {
    "name": "ipython",
    "version": 3
   },
   "file_extension": ".py",
   "mimetype": "text/x-python",
   "name": "python",
   "nbconvert_exporter": "python",
   "pygments_lexer": "ipython3",
   "version": "3.9.6"
  }
 },
 "nbformat": 4,
 "nbformat_minor": 5
}
