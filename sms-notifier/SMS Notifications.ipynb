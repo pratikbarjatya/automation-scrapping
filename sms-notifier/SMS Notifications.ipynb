{
  "nbformat": 4,
  "nbformat_minor": 5,
  "metadata": {
    "kernelspec": {
      "display_name": "Python 3",
      "language": "python",
      "name": "python3"
    },
    "language_info": {
      "codemirror_mode": {
        "name": "ipython",
        "version": 3
      },
      "file_extension": ".py",
      "mimetype": "text/x-python",
      "name": "python",
      "nbconvert_exporter": "python",
      "pygments_lexer": "ipython3",
      "version": "3.8.7"
    },
    "colab": {
      "name": "SMS Notifications.ipynb",
      "provenance": []
    }
  },
  "cells": [
    {
      "cell_type": "markdown",
      "metadata": {
        "id": "ouZ5G8RGsxh3"
      },
      "source": [
        "---\n",
        "# **Importing of Libraries**\n",
        "\n",
        "- In this section, we will import all the necessary libraries that are required to perform the desired task.\n",
        "\n",
        "---"
      ],
      "id": "ouZ5G8RGsxh3"
    },
    {
      "cell_type": "code",
      "metadata": {
        "id": "federal-darkness"
      },
      "source": [
        "import requests"
      ],
      "id": "federal-darkness",
      "execution_count": null,
      "outputs": []
    },
    {
      "cell_type": "markdown",
      "metadata": {
        "id": "1wvkQFgXtAq1"
      },
      "source": [
        "---\n",
        "# **Sending of Bulk SMS**\n",
        "\n",
        "- In this section, we will implemnent sending of bulk SMS using Fast2SMS API.\n",
        "\n",
        "- You will need the message, phone numbers, and your API key for the execution of the code.\n",
        "\n",
        "---"
      ],
      "id": "1wvkQFgXtAq1"
    },
    {
      "cell_type": "code",
      "metadata": {
        "id": "grand-match"
      },
      "source": [
        "# Initializing the request type\n",
        "request = \"https://www.fast2sms.com/dev/bulkV2\"\n",
        "\n",
        "# Initializing the sender ID\n",
        "sender_id = \"?sender_id=TXTIND\"\n",
        "\n",
        "# Initializing the message; Max size is 200 characters.\n",
        "message = \"&message=\" + \"Hey there! this is an experimental message to showcase the awesomeness of Python.\"\n",
        "\n",
        "# Initializing the route\n",
        "route = \"&route=v3\"\n",
        "\n",
        "# Initializing the phone number. They must be of 10 digits India specific.\n",
        "numbers = \"&numbers=\" + \"<10 digit number>,<10 digit number>\"\n",
        "\n",
        "# Creating a complete URL request\n",
        "url = request + sender_id + message + route + numbers\n",
        "\n",
        "# Initializing the payload and headers\n",
        "payload={}\n",
        "headers = {'authorization': '<Your API Key>'}\n",
        "\n",
        "# Generating the response using POST method\n",
        "response = requests.request(\"POST\", url, headers=headers, data=payload)\n",
        "\n",
        "# Printing the response\n",
        "print(response.text)"
      ],
      "id": "grand-match",
      "execution_count": null,
      "outputs": []
    }
  ]
}