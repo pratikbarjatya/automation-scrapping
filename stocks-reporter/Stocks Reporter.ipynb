{
 "cells": [
  {
   "cell_type": "markdown",
   "id": "17fe18f1-05cd-4816-8ec9-6f4f02d2f035",
   "metadata": {},
   "source": [
    "---\n",
    "\n",
    "# **Importing of Libraries**\n",
    "\n",
    "- In this section, we will import all the essential libraries that will be used to call an API.\n",
    "\n",
    "---"
   ]
  },
  {
   "cell_type": "code",
   "execution_count": null,
   "id": "558f3d8b-cfe1-4f91-a99c-b4d6e51fd0e1",
   "metadata": {},
   "outputs": [],
   "source": [
    "import json\n",
    "import requests\n",
    "import datetime"
   ]
  },
  {
   "cell_type": "markdown",
   "id": "ddc137c9-58cd-4b13-9c05-4f27f9ddc1cb",
   "metadata": {},
   "source": [
    "---\n",
    "\n",
    "# **Getting of Response & Sending Email Notifications**\n",
    "\n",
    "- In this section, we will call an API request using GET and send the notifications based on some criteria.\n",
    "\n",
    "---"
   ]
  },
  {
   "cell_type": "code",
   "execution_count": 23,
   "id": "599f2167-36fe-4d54-89f2-9a8781f30368",
   "metadata": {},
   "outputs": [
    {
     "name": "stdout",
     "output_type": "stream",
     "text": [
      "Email Notification Sent! 2021-08-24 18:24:21.638911\n",
      "Email Notification Sent! 2021-08-24 18:25:23.809408\n",
      "Email Notification Sent! 2021-08-24 18:28:35.254839\n",
      "Email Notification Sent! 2021-08-24 18:28:59.323252\n",
      "Email Notification Sent! 2021-08-24 18:29:30.375411\n",
      "Email Notification Sent! 2021-08-24 18:30:43.545624\n",
      "Email Notification Sent! 2021-08-24 18:30:55.555650\n",
      "Email Notification Sent! 2021-08-24 18:31:53.727731\n",
      "Email Notification Sent! 2021-08-24 18:34:10.037151\n",
      "Email Notification Sent! 2021-08-24 18:34:23.067054\n",
      "Email Notification Sent! 2021-08-24 18:35:20.203159\n",
      "Email Notification Sent! 2021-08-24 18:35:51.293762\n"
     ]
    }
   ],
   "source": [
    "url = \"http://127.0.0.1:5000/shareprices\"\n",
    "\n",
    "payload={}\n",
    "headers = {}\n",
    "\n",
    "# Run loop and get data for next 15 minutes\n",
    "endTime = datetime.datetime.now() + datetime.timedelta(minutes=15)\n",
    "\n",
    "while True:\n",
    "    if datetime.datetime.now() >= endTime:\n",
    "        break\n",
    "        \n",
    "    response = requests.request(\"GET\", url, headers=headers, data=payload)\n",
    "\n",
    "    response_text = json.loads(response.text)\n",
    "\n",
    "    data = response_text['data']\n",
    "    \n",
    "    if data['price_percent'] > 2:\n",
    "        print('Email Notification Sent!', datetime.datetime.now())\n",
    "        # Code here to sent the email/SMS notifications"
   ]
  }
 ],
 "metadata": {
  "kernelspec": {
   "display_name": "Python 3 (ipykernel)",
   "language": "python",
   "name": "python3"
  },
  "language_info": {
   "codemirror_mode": {
    "name": "ipython",
    "version": 3
   },
   "file_extension": ".py",
   "mimetype": "text/x-python",
   "name": "python",
   "nbconvert_exporter": "python",
   "pygments_lexer": "ipython3",
   "version": "3.9.6"
  }
 },
 "nbformat": 4,
 "nbformat_minor": 5
}
