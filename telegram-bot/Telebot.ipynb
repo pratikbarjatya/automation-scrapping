{
 "cells": [
  {
   "cell_type": "markdown",
   "id": "e7230fec-68d4-4292-91ca-7197dee8822c",
   "metadata": {},
   "source": [
    "---\n",
    "\n",
    "# **Importing of Libraries**\n",
    "\n",
    "- In this section, we have imported all the libraries that we will used to verify the integrity of the notification service.\n",
    "\n",
    "---"
   ]
  },
  {
   "cell_type": "code",
   "execution_count": 1,
   "id": "c9e54b15-0586-4bc0-a46b-ed79c4492062",
   "metadata": {},
   "outputs": [],
   "source": [
    "import json                                                         # A lightweight data interchange format\n",
    "import requests                                                     # An elegant and simple HTTP library"
   ]
  },
  {
   "cell_type": "markdown",
   "id": "421d8f6a-4c39-4285-9ae1-e65a0ce32407",
   "metadata": {},
   "source": [
    "---\n",
    "\n",
    "# **Telegram Notifications**\n",
    "\n",
    "- In this section, we will use the Telegram Bot API to create a Telegram notification for the intended users.\n",
    "- You can follow the instructions to set up a private bot for your Telegram before executing the following code.\n",
    "\n",
    "---"
   ]
  },
  {
   "cell_type": "code",
   "execution_count": 2,
   "id": "866ee794-aa85-4621-b282-dd8d1d5d8afb",
   "metadata": {},
   "outputs": [
    {
     "name": "stdout",
     "output_type": "stream",
     "text": [
      "{\"ok\":true,\"result\":{\"message_id\":15,\"from\":{\"id\":<Your BoT ID>,\"is_bot\":true,\"first_name\":\"MasterBot\",\"username\":\"Ranker999Bot\"},\"chat\":{\"id\":<Your Chat ID>,\"first_name\":\"Mukesh\",\"last_name\":\"Kumar\",\"username\":\"<Your Username>\",\"type\":\"private\"},\"date\":1630393624,\"text\":\"What a lovely day today.\"}}\n"
     ]
    }
   ],
   "source": [
    "base_url = \"https://api.telegram.org/bot\"\n",
    "\n",
    "token = \"<Enter your bot token>\"\n",
    "\n",
    "endpoint = \"/sendMessage\"\n",
    "\n",
    "chat_id = \"<Enter the chat ID>\"\n",
    "\n",
    "message = \"What a lovely day today.\"\n",
    "\n",
    "url = base_url + token + endpoint + \"?chat_id=\" + chat_id + \"&text=\" + message\n",
    "\n",
    "payload={}\n",
    "headers = {}\n",
    "\n",
    "response = requests.request(\"POST\", url, headers=headers, data=payload)\n",
    "\n",
    "print(response.text)"
   ]
  }
 ],
 "metadata": {
  "kernelspec": {
   "display_name": "Python 3 (ipykernel)",
   "language": "python",
   "name": "python3"
  },
  "language_info": {
   "codemirror_mode": {
    "name": "ipython",
    "version": 3
   },
   "file_extension": ".py",
   "mimetype": "text/x-python",
   "name": "python",
   "nbconvert_exporter": "python",
   "pygments_lexer": "ipython3",
   "version": "3.9.6"
  }
 },
 "nbformat": 4,
 "nbformat_minor": 5
}
