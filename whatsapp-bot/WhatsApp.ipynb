{
 "cells": [
  {
   "cell_type": "markdown",
   "id": "e4ef96d2-b4ed-407f-a50b-1c363b58788d",
   "metadata": {},
   "source": [
    "---\n",
    "\n",
    "# **Importing of Libraries**\n",
    "\n",
    "- In this section, we will import all the essential libraries that will be used to send and receive messages from whatsapp.\n",
    "\n",
    "---"
   ]
  },
  {
   "cell_type": "code",
   "execution_count": 1,
   "id": "e31a3146-b51e-4675-8823-6c5e84fee1ca",
   "metadata": {},
   "outputs": [],
   "source": [
    "import os\n",
    "from twilio.rest import Client\n",
    "from flask import Flask, request\n",
    "from twilio.twiml.messaging_response import MessagingResponse"
   ]
  },
  {
   "cell_type": "markdown",
   "id": "891d7409-542b-433a-9e66-750e27f0b49e",
   "metadata": {},
   "source": [
    "---\n",
    "\n",
    "# Sending of WhatsApp Messages\n",
    "\n",
    "- In this section, we will send a message as a bot to the verified user on WhatsApp.\n",
    "\n",
    "---"
   ]
  },
  {
   "cell_type": "code",
   "execution_count": null,
   "id": "16dc8a67-825b-4678-b4de-157346753dde",
   "metadata": {},
   "outputs": [],
   "source": [
    "# Initialize your credentials here\n",
    "account_sid = \"<your account sid>\"\n",
    "auth_token = \"<your account auth token>\"\n",
    "\n",
    "# Initialize client object using credentials\n",
    "client = Client(account_sid, auth_token)\n",
    "\n",
    "# Create and send a message request from source to destination\n",
    "message = client.messages.create(body='Hello there!', \n",
    "                                 from_='whatsapp:<twilio issued number>', \n",
    "                                 to='whatsapp:<verified number>')\n",
    "\n",
    "# Display the message sid\n",
    "print(message.sid)"
   ]
  },
  {
   "cell_type": "markdown",
   "id": "b7649489-f24e-4906-b70b-7c8ce7ee4ae0",
   "metadata": {},
   "source": [
    "---\n",
    "\n",
    "# Receiving of WhatsApp Messages\n",
    "\n",
    "- In this section, we will receive messages from the verifed user on the WhatsApp.\n",
    "\n",
    "---"
   ]
  },
  {
   "cell_type": "code",
   "execution_count": null,
   "id": "00873529-e1c2-4d08-a073-1072c035fce1",
   "metadata": {},
   "outputs": [],
   "source": [
    "# Initialize a flask app\n",
    "app = Flask(__name__)\n",
    "\n",
    "# Define a route to whatsapp having GET and POST requests\n",
    "@app.route(\"/whatsapp\", methods=[\"GET\", \"POST\"])\n",
    "def reply_whatsapp():\n",
    "    \n",
    "    # Get the body of the form using get request\n",
    "    message = request.form.get('Body')\n",
    "    \n",
    "    # Initialize a message response\n",
    "    response = MessagingResponse()\n",
    "    \n",
    "    # Attach a message with the response to send back\n",
    "    response.message(\"You said: {}\".format(message))\n",
    "    \n",
    "    # Display the message received from the user\n",
    "    print(message)\n",
    "    \n",
    "    # Return the response in the form of string\n",
    "    return str(response)\n",
    "\n",
    "# Run the applicaiton if name is __main__\n",
    "if __name__ == \"__main__\":\n",
    "    app.run()"
   ]
  }
 ],
 "metadata": {
  "kernelspec": {
   "display_name": "Python 3 (ipykernel)",
   "language": "python",
   "name": "python3"
  },
  "language_info": {
   "codemirror_mode": {
    "name": "ipython",
    "version": 3
   },
   "file_extension": ".py",
   "mimetype": "text/x-python",
   "name": "python",
   "nbconvert_exporter": "python",
   "pygments_lexer": "ipython3",
   "version": "3.9.6"
  }
 },
 "nbformat": 4,
 "nbformat_minor": 5
}
