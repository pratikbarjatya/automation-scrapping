{
 "cells": [
  {
   "cell_type": "markdown",
   "source": [
    "---\r\n",
    "\r\n",
    "# **Importing of Libraries**\r\n",
    "\r\n",
    "- In this section, we have imported all the libraries that we will used to perform Text to Speech operations.\r\n",
    "\r\n",
    "---"
   ],
   "metadata": {}
  },
  {
   "cell_type": "code",
   "execution_count": 2,
   "source": [
    "import os\r\n",
    "import time\r\n",
    "import pandas as pd\r\n",
    "from google.cloud import texttospeech_v1"
   ],
   "outputs": [],
   "metadata": {}
  },
  {
   "cell_type": "code",
   "execution_count": 3,
   "source": [
    "# Authenticating the google application using service account file\r\n",
    "os.environ['GOOGLE_APPLICATION_CREDENTIALS'] = r'service_account.json'\r\n",
    "speech_client = texttospeech_v1.TextToSpeechClient()"
   ],
   "outputs": [],
   "metadata": {}
  },
  {
   "cell_type": "markdown",
   "source": [
    "---\r\n",
    "\r\n",
    "# **Speech Generation using Text**\r\n",
    "\r\n",
    "- Make sure that the file contains less than 4 million characters for standard voices and Wavenet voices.\r\n",
    "\r\n",
    "- The below code will generate an audio file using the raw text provided, and save it to the current path.\r\n",
    "\r\n",
    "---"
   ],
   "metadata": {}
  },
  {
   "cell_type": "code",
   "execution_count": 5,
   "source": [
    "# To get all the voices available for text to speech\r\n",
    "voice_list = []\r\n",
    "\r\n",
    "for voice in speech_client.list_voices().voices:\r\n",
    "    voice_list.append([voice.name, voice.language_codes[0], voice.ssml_gender, voice.natural_sample_rate_hertz])\r\n",
    "\r\n",
    "df_voice_list = pd.DataFrame(data=voice_list, columns=['name', 'language code', 'ssml gender', 'hertz rate'])\r\n",
    "\r\n",
    "df_voice_list.to_csv(path_or_buf='Voices List.csv', index=False)"
   ],
   "outputs": [],
   "metadata": {}
  },
  {
   "cell_type": "code",
   "execution_count": 6,
   "source": [
    "# Set the text input to be synthesized\r\n",
    "raw_text = \\\r\n",
    "    '''\r\n",
    "    INSAID is India's first academic institution dedicated to research and education in Data Science & AI. \r\n",
    "    INSAID's mission is to produce Data leaders of tomorrow!\r\n",
    "    '''\r\n",
    "synthesis_input = texttospeech_v1.SynthesisInput(text=raw_text)\r\n",
    "\r\n",
    "# Select the voice from the list of voices list\r\n",
    "voice = texttospeech_v1.VoiceSelectionParams(language_code=\"en-in\", ssml_gender=texttospeech_v1.SsmlVoiceGender.MALE)\r\n",
    "\r\n",
    "# Return the mp3 audio format of the file\r\n",
    "audio_config = texttospeech_v1.AudioConfig(audio_encoding=texttospeech_v1.AudioEncoding.MP3)\r\n",
    "\r\n",
    "# Perform the text-to-speech request on the text input with the selected voice parameters and the audio file type\r\n",
    "response = speech_client.synthesize_speech(input=synthesis_input, voice=voice, audio_config=audio_config)\r\n",
    "\r\n",
    "# Generate audio file from the received binary response\r\n",
    "with open(r'Voice Output.mp3', \"wb\") as outfile:\r\n",
    "    outfile.write(response.audio_content)\r\n",
    "    print('Audio content written to file \"Voice Output.mp3\"')"
   ],
   "outputs": [
    {
     "output_type": "stream",
     "name": "stdout",
     "text": [
      "Audio content written to file \"Voice Output.mp3\"\n"
     ]
    }
   ],
   "metadata": {}
  }
 ],
 "metadata": {
  "kernelspec": {
   "name": "python3",
   "display_name": "Python 3.9.7 64-bit"
  },
  "language_info": {
   "codemirror_mode": {
    "name": "ipython",
    "version": 3
   },
   "file_extension": ".py",
   "mimetype": "text/x-python",
   "name": "python",
   "nbconvert_exporter": "python",
   "pygments_lexer": "ipython3",
   "version": "3.9.7"
  },
  "interpreter": {
   "hash": "23263b619eede791ee76531faea33d0ac3cfe2e28e54d2f570a826170ba9147e"
  }
 },
 "nbformat": 4,
 "nbformat_minor": 5
}