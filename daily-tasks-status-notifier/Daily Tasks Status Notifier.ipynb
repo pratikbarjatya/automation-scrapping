{
  "nbformat": 4,
  "nbformat_minor": 0,
  "metadata": {
    "colab": {
      "name": "Daily Tasks Status Notifier.ipynb",
      "provenance": [],
      "collapsed_sections": []
    },
    "kernelspec": {
      "name": "python3",
      "display_name": "Python 3"
    },
    "language_info": {
      "name": "python"
    }
  },
  "cells": [
    {
      "cell_type": "markdown",
      "metadata": {
        "id": "5GY8PztcU4UW"
      },
      "source": [
        "---\n",
        "# **Importing of Libraries**\n",
        "\n",
        "- In this section, we will import all the necessary libraries that are required to perform the desired task.\n",
        "\n",
        "---"
      ]
    },
    {
      "cell_type": "code",
      "metadata": {
        "id": "zEB_4T-1aqwP"
      },
      "source": [
        "import json\n",
        "import requests\n",
        "import base64\n",
        "from Google import Create_Service\n",
        "from email.mime.multipart import MIMEMultipart\n",
        "from email.mime.text import MIMEText"
      ],
      "execution_count": null,
      "outputs": []
    },
    {
      "cell_type": "markdown",
      "metadata": {
        "id": "dcpJWLezVSbC"
      },
      "source": [
        "---\n",
        "# **Sending of Tasks Status**\n",
        "\n",
        "- In this section, we will get the information from Trello cards for a specified list.\n",
        "\n",
        "- You can customize your email template and store the message as a whole.\n",
        "\n",
        "- Then using the Gmail API, you can send the message to the specified audience.\n",
        "---"
      ]
    },
    {
      "cell_type": "code",
      "metadata": {
        "id": "_nASbptBayaT"
      },
      "source": [
        "# --------------------Trello Part Starts Here--------------------\n",
        "# Adding the name of the user to whom you want to send the message\n",
        "message = \"Hi <user's name>,\\n\\n\\n\"\n",
        "\n",
        "# Creating URL from the base URL + list API URL + API key + Token\n",
        "# Source: https://developer.atlassian.com/cloud/trello/rest/api-group-lists/#api-lists-id-get\n",
        "baseurl = \"https://api.trello.com\"\n",
        "listapiurl = \"/1/lists/{id}\"\n",
        "APIkey = \"?key=Paste your API key here\"\n",
        "token = \"&token=Paste your token here\"\n",
        "url = baseurl + listapiurl + APIkey + token\n",
        "\n",
        "# Creating payload and headers for the request method\n",
        "# Note: You can use postman to generate code for specific language\n",
        "# Note: All you need is to specified the url and the request method\n",
        "payload={}\n",
        "headers = {\n",
        "  'Cookie': 'dsc=d3f96c26242087961b5a8bad4ae70194f3c20e77d57ad25d93f0e17e68a2035a;' \\\n",
        "          + 'preAuthProps=s%3A5f574bf2a978b781d4f31140%3AisEnterpriseAdmin%3Dfalse.%2BMMHM5txXh9nYenn60EnZciJSp0HT4u0of4q1U4JAsU'\n",
        "}\n",
        "\n",
        "# Retrieving API response using GET method by specifying url, header, and data\n",
        "response = requests.request(\"GET\", url, headers=headers, data=payload)\n",
        "\n",
        "# Transforming the response to JSON format\n",
        "dictdata = json.loads(response.text)\n",
        "\n",
        "# Creating a message template using the JSON data\n",
        "for user in dictdata:\n",
        "  message = message + user['name'].split(' - ')[0] + \" Today's Tasks:\\n\\n\" + user['desc'] + \"\\n\\n\"\n",
        "\n",
        "message = message.replace('-', '•') + \"\\nRegards,\\n<sender' name>\"\n",
        "# --------------------Trello Part Ends Here---------------------\n",
        "# --------------------Gmail Part Starts Here--------------------\n",
        "# Defining client secret credentials and API scopes\n",
        "# Gmail API Scopes Source: https://developers.google.com/gmail/api/auth/scopes\n",
        "CLIENT_SECRET_FILE = 'client_secret.json'\n",
        "API_NAME = 'gmail'\n",
        "API_VERSION = 'v1'\n",
        "SCOPES = ['https://mail.google.com/']\n",
        "\n",
        "# Create a service file using client secret, api name, api version and scopes\n",
        "service = Create_Service(CLIENT_SECRET_FILE, API_NAME, API_VERSION, SCOPES)\n",
        "\n",
        "# Encode message as base64\n",
        "mimeMessage = MIMEMultipart()\n",
        "mimeMessage['to'] = 'email id of the receiver'\n",
        "mimeMessage['subject'] = \"Today's Tasks\"\n",
        "mimeMessage.attach(payload=MIMEText(_text=message, _subtype='plain'))\n",
        "raw_string = base64.urlsafe_b64encode(mimeMessage.as_bytes()).decode()\n",
        "\n",
        "# Send email using raw_string\n",
        "message = service.users().messages().send(userId='me', body={'raw': raw_string}).execute()\n",
        "\n",
        "# Display message id, threadId, labelIds\n",
        "print(message)\n",
        "\n",
        "# --------------------Gmail Part Ends Here---------------------"
      ],
      "execution_count": null,
      "outputs": []
    },
    {
      "cell_type": "markdown",
      "metadata": {
        "id": "zqel_rbSZvFr"
      },
      "source": [
        "---\n",
        "# **Sending of Tasks Status Updates**\n",
        "\n",
        "- In this section, we will get the updates from Trello cards for a specified list.\n",
        "\n",
        "- You can customize your email template and store the message as a whole.\n",
        "\n",
        "- Using the Gmail API, you can send the message updates to the specified audience in the same email thread.\n",
        "\n",
        "- To reply in the same email thread, you require an email thread having the same email title.\n",
        "\n",
        "---"
      ]
    },
    {
      "cell_type": "code",
      "metadata": {
        "id": "L-CIgEeJSZ6X"
      },
      "source": [
        "# --------------------Trello Part Starts Here--------------------\n",
        "# Adding the name of the user to whom you want to send the message\n",
        "message = \"Hi <user's name>,\\n\\n\\n\"\n",
        "\n",
        "# Creating URL from the base URL + list API URL + API key + Token\n",
        "# Source: https://developer.atlassian.com/cloud/trello/rest/api-group-lists/#api-lists-id-get\n",
        "baseurl = \"https://api.trello.com\"\n",
        "listapiurl = \"/1/lists/{id}\"\n",
        "APIkey = \"?key=Paste your API key here\"\n",
        "token = \"&token=Paste your token here\"\n",
        "url = baseurl + listapiurl + APIkey + token\n",
        "\n",
        "# Creating payload and headers for the request method\n",
        "# Note: You can use postman to generate code for specific language\n",
        "# Note: All you need is to specified the url and the request method\n",
        "payload={}\n",
        "headers = {\n",
        "  'Cookie': 'dsc=d3f96c26242087961b5a8bad4ae70194f3c20e77d57ad25d93f0e17e68a2035a;' \\\n",
        "          + 'preAuthProps=s%3A5f574bf2a978b781d4f31140%3AisEnterpriseAdmin%3Dfalse.%2BMMHM5txXh9nYenn60EnZciJSp0HT4u0of4q1U4JAsU'\n",
        "}\n",
        "\n",
        "# Retrieving API response using GET method by specifying url, header, and data\n",
        "response = requests.request(\"GET\", url, headers=headers, data=payload)\n",
        "\n",
        "# Transforming the response to JSON format\n",
        "dictdata = json.loads(response.text)\n",
        "\n",
        "# Creating a message template using the JSON data\n",
        "for user in dictdata:\n",
        "  message = message + user['name'].split(' - ')[0] + \" Today's Tasks:\\n\\n\" + user['desc'] + \"\\n\\n\"\n",
        "\n",
        "message = message.replace('-', '•') + \"\\nRegards,\\n<sender' name>\"\n",
        "# --------------------Trello Part Ends Here---------------------\n",
        "# --------------------Gmail Part Starts Here--------------------\n",
        "\n",
        "CLIENT_SECRET_FILE = 'client_secret.json'\n",
        "API_NAME = 'gmail'\n",
        "API_VERSION = 'v1'\n",
        "SCOPES = ['https://mail.google.com/']\n",
        "\n",
        "# Create a service file using client secret, api name, api version and scopes\n",
        "service = Create_Service(CLIENT_SECRET_FILE, API_NAME, API_VERSION, SCOPES)\n",
        "# Thread Id of the previous email; Check above code in case it fails\n",
        "thread_id = message['threadId']\n",
        "\n",
        "# Encode message as base64\n",
        "mimeMessage = MIMEMultipart()\n",
        "mimeMessage['to'] = 'email id of the receiver'\n",
        "mimeMessage['subject'] = \"Today's Tasks\"\n",
        "mimeMessage.attach(payload=MIMEText(_text=message, _subtype='plain'))\n",
        "raw_string = base64.urlsafe_b64encode(mimeMessage.as_bytes()).decode()\n",
        "\n",
        "# Send email using raw_string\n",
        "message = service.users().messages().send(userId='me', body={'raw': raw_string, 'threadId': thread_id}).execute()\n",
        "\n",
        "# Display message id, threadId, labelIds\n",
        "print(message)\n",
        "\n",
        "# --------------------Gmail Part Ends Here---------------------"
      ],
      "execution_count": null,
      "outputs": []
    }
  ]
}