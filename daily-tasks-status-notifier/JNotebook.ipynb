{
 "cells": [
  {
   "cell_type": "markdown",
   "metadata": {},
   "source": [
    "---\n",
    "\n",
    "# **Importing of Libraries**\n",
    "\n",
    "- In this section, we have imported all the libraries that we will used to verify the integrity of the notification service.\n",
    "\n",
    "---"
   ]
  },
  {
   "cell_type": "code",
   "execution_count": null,
   "metadata": {},
   "outputs": [],
   "source": [
    "import requests                                                     # An elegant and simple HTTP library\n",
    "import base64                                                       # Encoding & decoding of binary data to printable ASCII characters\n",
    "from Google import Create_Service                                   # Custom script to authorize Gmail Service\n",
    "from email.mime.multipart import MIMEMultipart                      # An intermediate base class for MIME messages that are multipart\n",
    "from email.mime.text import MIMEText                                # A subclass of MIME to create MIME objects of major type text\n",
    "from IPython.core.display import display, HTML                      # To display the HTML content in the markdown output section"
   ]
  },
  {
   "cell_type": "markdown",
   "metadata": {},
   "source": [
    "---\n",
    "\n",
    "# **Gmail Notifications**\n",
    "\n",
    "- In this section, we will use the Gmail service to create an email notification for the intended users.\n",
    "- If you are using it for the first time, you might be redirected to your web browser to authorize your application.\n",
    "\n",
    "---"
   ]
  },
  {
   "cell_type": "code",
   "execution_count": null,
   "metadata": {},
   "outputs": [],
   "source": [
    "message = \"\"\"\n",
    "We are celebrating INSAID’s third anniversary this July 2nd 2021. \n",
    "As INSAID completes this milestone, on behalf of the entire team, I would like to thank you for being an integral part of INSAID’s journey.<br><br>\n",
    "While I congratulate you for your work achievements and efforts, I also want to thank you for the positivity, energy, and happiness you bring to the team.<br><br>\n",
    "To celebrate your contribution, we’re excited to award you with the Service Excellence Award 2021.<br><br>\n",
    "I would like to appreciate you for your speed of doing tasks, ensuring the best of quality in your work, and strengthening the bond in your team. \n",
    "You, for sure, reflect INSAID’s three core values - Speed, Quality, and TeamWork.<br><br>\n",
    "We must also thank your family for supporting you to do your best. \n",
    "To recognize them, as part of this award, we would like you to take your family out for an all paid dinner (worth INR 10,000) to a 5 star hotel.<br><br>\n",
    "Thank you again for your loyalty and invaluable contribution to INSAID’s mission.<br><br>\n",
    "Congratulations once again!\n",
    "\"\"\"\n",
    "\n",
    "# Create the plain-text and HTML version of your message\n",
    "html_form = \"\"\"\n",
    "<html>\n",
    "    <head>\n",
    "    </head>\n",
    "    <body>\n",
    "        <p>Hi Receiver,</p>\n",
    "        <br>\n",
    "        <p>\"\"\" + message +\"\"\"</p>\n",
    "        <br>\n",
    "        <p>Regards, <br>Sender</p>\n",
    "\n",
    "    </body>\n",
    "</html>\n",
    "\"\"\"\n",
    "\n",
    "display(HTML(html_form))"
   ]
  },
  {
   "cell_type": "code",
   "execution_count": null,
   "metadata": {},
   "outputs": [],
   "source": [
    "# Gmail API Scopes Source: https://developers.google.com/gmail/api/auth/scopes\n",
    "CLIENT_SECRET_FILE = \"client_secret.json\"\n",
    "API_NAME = \"gmail\"\n",
    "API_VERSION = \"v1\"\n",
    "SCOPES = [\"https://mail.google.com/\"]\n",
    "\n",
    "# Create a service file using client secret, api name, api version and scopes\n",
    "service = Create_Service(CLIENT_SECRET_FILE, API_NAME, API_VERSION, SCOPES)\n",
    "\n",
    "# Encode message as base64\n",
    "mimeMessage = MIMEMultipart()\n",
    "mimeMessage[\"to\"] = \"<Receiver Email ID>\"\n",
    "mimeMessage[\"subject\"] = \"Service Excellence Certificates | INSAID\"\n",
    "\n",
    "# Attaching html form to the mimeMessage \n",
    "mimeMessage.attach(payload=MIMEText(_text=html_form, _subtype=\"html\"))\n",
    "raw_string = base64.urlsafe_b64encode(mimeMessage.as_bytes()).decode()\n",
    "\n",
    "# Send email using raw_string\n",
    "message = service.users().messages().send(userId=\"me\", body={\"raw\": raw_string}).execute()\n",
    "\n",
    "# Display message id, threadId, labelIds\n",
    "print(message)"
   ]
  }
 ],
 "metadata": {
  "interpreter": {
   "hash": "23263b619eede791ee76531faea33d0ac3cfe2e28e54d2f570a826170ba9147e"
  },
  "kernelspec": {
   "display_name": "Python 3.9.6 64-bit",
   "name": "python3"
  },
  "language_info": {
   "codemirror_mode": {
    "name": "ipython",
    "version": 3
   },
   "file_extension": ".py",
   "mimetype": "text/x-python",
   "name": "python",
   "nbconvert_exporter": "python",
   "pygments_lexer": "ipython3",
   "version": "3.9.6"
  }
 },
 "nbformat": 4,
 "nbformat_minor": 5
}
