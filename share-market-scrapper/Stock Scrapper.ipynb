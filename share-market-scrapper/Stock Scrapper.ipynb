{
 "cells": [
  {
   "cell_type": "markdown",
   "id": "92ac4d47-3b53-4faf-9f62-4c57c6e3df8f",
   "metadata": {},
   "source": [
    "---\n",
    "\n",
    "# Importing of Libraries\n",
    "\n",
    "- In this section, we will import all the necessary libraries to make an API and retrieve share price data.\n",
    "\n",
    "---"
   ]
  },
  {
   "cell_type": "code",
   "execution_count": 1,
   "id": "28b27636-4c5c-4d54-8441-c3a675cacd45",
   "metadata": {},
   "outputs": [],
   "source": [
    "import ast\n",
    "import json\n",
    "import pandas as pd\n",
    "from datetime import datetime\n",
    "from selenium import webdriver\n",
    "from flask import Flask\n",
    "from flask_restful import Resource, Api, reqparse\n",
    "app = Flask(__name__)\n",
    "api = Api(app)"
   ]
  },
  {
   "cell_type": "markdown",
   "id": "71e8d929-7f57-40f3-885d-7017dbb262ec",
   "metadata": {},
   "source": [
    "---\n",
    "\n",
    "# Building of an API\n",
    "\n",
    "- In this section, we will build an API that will fetch share price data of Infosys from Google.\n",
    "\n",
    "---"
   ]
  },
  {
   "cell_type": "code",
   "execution_count": 2,
   "id": "9581d3df-6863-44a8-8539-aed35bda6970",
   "metadata": {},
   "outputs": [],
   "source": [
    "class ShareData(Resource):\n",
    "    def get(self):\n",
    "        \"\"\"Returns share price data to the client.\"\"\"\n",
    "        \n",
    "        # Initiating chrome driver options\n",
    "        chrome_options = webdriver.ChromeOptions()\n",
    "        chrome_options.add_argument('--headless')\n",
    "        chrome_options.add_argument('--no-sandbox')\n",
    "        chrome_options.add_argument('--disable-dev-shm-usage')\n",
    "        \n",
    "        # Initializing webdriver along with the specific options\n",
    "        driver = webdriver.Chrome(\"chromedriver\", options=chrome_options)\n",
    "        \n",
    "        # Enter the ticker for which you want to extract the share price data\n",
    "        ticker = \"infy\"\n",
    "        driver.get(url=\"https://www.google.co.in/search?q=\"+ticker+\"+share+price\")\n",
    "\n",
    "        # To fetch data provided by NSE using the selinium driver continuously\n",
    "        while True:\n",
    "            price_now = driver.find_element_by_xpath('//*[@id=\"knowledge-finance-wholepage__entity-summary\"]/div/g-card-section/div/g-card-section/div[2]/div[1]/span[1]/span/span[1]').text\n",
    "            price_updown = driver.find_element_by_xpath('//*[@id=\"knowledge-finance-wholepage__entity-summary\"]/div/g-card-section/div/g-card-section/div[2]/div[1]/span[2]/span[1]').text\n",
    "            price_percent = driver.find_element_by_xpath('//*[@id=\"knowledge-finance-wholepage__entity-summary\"]/div/g-card-section/div/g-card-section/div[2]/div[1]/span[2]/span[2]/span[1]').text\n",
    "            units = driver.find_element_by_xpath('//*[@id=\"knowledge-finance-wholepage__entity-summary\"]/div/g-card-section/div/g-card-section/div[2]/div[1]/span[1]/span/span[2]').text\n",
    "            time =  datetime.now().strftime(\"%H:%M:%S\") + \" IST\"\n",
    "            open_ = driver.find_element_by_xpath('//*[@id=\"knowledge-finance-wholepage__entity-summary\"]/div/div/g-card-section[2]/div/div/div[1]/table/tbody/tr[1]/td[2]').text\n",
    "            high_ = driver.find_element_by_xpath('//*[@id=\"knowledge-finance-wholepage__entity-summary\"]/div/div/g-card-section[2]/div/div/div[1]/table/tbody/tr[2]/td[2]').text\n",
    "            low_ = driver.find_element_by_xpath('//*[@id=\"knowledge-finance-wholepage__entity-summary\"]/div/div/g-card-section[2]/div/div/div[1]/table/tbody/tr[3]/td[2]').text\n",
    "            mkt_cap = driver.find_element_by_xpath('//*[@id=\"knowledge-finance-wholepage__entity-summary\"]/div/div/g-card-section[2]/div/div/div[2]/table/tbody/tr[1]/td[2]').text\n",
    "            pe_ratio = driver.find_element_by_xpath('//*[@id=\"knowledge-finance-wholepage__entity-summary\"]/div/div/g-card-section[2]/div/div/div[2]/table/tbody/tr[2]/td[2]').text\n",
    "            div_yield = driver.find_element_by_xpath('//*[@id=\"knowledge-finance-wholepage__entity-summary\"]/div/div/g-card-section[2]/div/div/div[2]/table/tbody/tr[3]/td[2]').text\n",
    "            prev_close = driver.find_element_by_xpath('//*[@id=\"knowledge-finance-wholepage__entity-summary\"]/div/div/g-card-section[2]/div/div/div[3]/table/tbody/tr[1]/td[2]').text\n",
    "            wk52_high = driver.find_element_by_xpath('//*[@id=\"knowledge-finance-wholepage__entity-summary\"]/div/div/g-card-section[2]/div/div/div[3]/table/tbody/tr[2]/td[2]').text\n",
    "            wk52_low = driver.find_element_by_xpath('//*[@id=\"knowledge-finance-wholepage__entity-summary\"]/div/div/g-card-section[2]/div/div/div[3]/table/tbody/tr[3]/td[2]').text\n",
    "\n",
    "            # Data placeholder in the form of JSON\n",
    "            data = {'price_now' : price_now, 'price_updown' : price_updown, 'price_percent': price_percent, \n",
    "                   'units' : units, 'time' : time, 'open' : open_, 'high' : high_, 'low' : low_, \n",
    "                   'market_cap' : mkt_cap, 'pe_ratio' : pe_ratio, 'div_yield' : div_yield, 'prev_close' : prev_close, \n",
    "                   'wk52_high' : wk52_high, 'wk52_low' : wk52_low}\n",
    "            \n",
    "            # Return data if success\n",
    "            return {'data': data}, 200\n",
    "    \n",
    "# Add shareprice endpoint to the base url    \n",
    "api.add_resource(ShareData, '/shareprices')"
   ]
  },
  {
   "cell_type": "markdown",
   "id": "4ac14427-2f12-4ad7-a77d-f5ad0a5d9da5",
   "metadata": {},
   "source": [
    "---\n",
    "\n",
    "# API Execution\n",
    "\n",
    "- In this section, we will set our API to run on local server at http://127.0.0.1:5000/\n",
    "\n",
    "- To make a GET request, open your web browser and execute http://127.0.0.1:5000/shareprices\n",
    "\n",
    "- You will be able to get data from the code scripted above.\n",
    "\n",
    "---"
   ]
  },
  {
   "cell_type": "code",
   "execution_count": 3,
   "id": "153d1391-9dfe-4d43-9338-eb4181863ed5",
   "metadata": {},
   "outputs": [
    {
     "name": "stdout",
     "output_type": "stream",
     "text": [
      " * Serving Flask app '__main__' (lazy loading)\n",
      " * Environment: production\n",
      "\u001b[31m   WARNING: This is a development server. Do not use it in a production deployment.\u001b[0m\n",
      "\u001b[2m   Use a production WSGI server instead.\u001b[0m\n",
      " * Debug mode: off\n"
     ]
    },
    {
     "name": "stderr",
     "output_type": "stream",
     "text": [
      " * Running on http://127.0.0.1:5000/ (Press CTRL+C to quit)\n",
      "127.0.0.1 - - [23/Aug/2021 16:15:19] \"GET /shareprices HTTP/1.1\" 200 -\n",
      "127.0.0.1 - - [23/Aug/2021 16:15:20] \"GET /favicon.ico HTTP/1.1\" 404 -\n",
      "127.0.0.1 - - [23/Aug/2021 16:22:04] \"GET /shareprices HTTP/1.1\" 200 -\n",
      "127.0.0.1 - - [23/Aug/2021 16:22:20] \"GET /shareprices HTTP/1.1\" 200 -\n"
     ]
    }
   ],
   "source": [
    "# Run the flask app\n",
    "if __name__ == '__main__':\n",
    "    app.run()"
   ]
  }
 ],
 "metadata": {
  "kernelspec": {
   "display_name": "Python 3 (ipykernel)",
   "language": "python",
   "name": "python3"
  },
  "language_info": {
   "codemirror_mode": {
    "name": "ipython",
    "version": 3
   },
   "file_extension": ".py",
   "mimetype": "text/x-python",
   "name": "python",
   "nbconvert_exporter": "python",
   "pygments_lexer": "ipython3",
   "version": "3.9.6"
  }
 },
 "nbformat": 4,
 "nbformat_minor": 5
}
